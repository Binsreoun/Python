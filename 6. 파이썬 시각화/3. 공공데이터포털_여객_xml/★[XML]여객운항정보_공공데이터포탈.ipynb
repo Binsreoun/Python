{
 "cells": [
  {
   "cell_type": "raw",
   "metadata": {},
   "source": [
    "http(hyper text transfer protocol) \n",
    "\n",
    "요청url = 'http:서버에 요청하는 주소?요청변수(parameters)'\n",
    "\n",
    "교환 데이터 표준 : []XML, []JSON\n",
    "\n",
    "보통 REST 방식\n",
    "(response 데이터타입 표준은 XML 이며 JSON을 요청할 경우 “&_type=json”을 추가하여 호출)"
   ]
  },
  {
   "cell_type": "markdown",
   "metadata": {},
   "source": [
    "# \"백령도\" 관련 여객정보 가져오기 - api 데이터 성공!"
   ]
  },
  {
   "cell_type": "raw",
   "metadata": {},
   "source": [
    "- 공공데이터 포탈 : https://www.data.go.kr/data/15013974/openapi.do\n",
    "- 코드설명 블로그 : https://somjang.tistory.com/entry/Python%EC%97%B0%EC%95%88-%EC%97%AC%EA%B0%9D%ED%84%B0%EB%AF%B8%EB%84%90-%EC%8B%A4%EC%8B%9C%EA%B0%84-%EC%9A%B4%ED%95%AD%EC%A0%95%EB%B3%B4-API-%ED%99%9C%EC%9A%A9%EA%B8%B0\n",
    "- 워드파일 \"★OpenAPI활용가이드_인천항만공사_v1.5.docx\" page 123"
   ]
  },
  {
   "cell_type": "raw",
   "metadata": {},
   "source": [
    "<목차>\n",
    "step1. \"url? + 파라미터(api_key)\" 정의하기\n",
    "step2. xml 데이터 확보\n",
    "step3. xml 데이터에서 내용만 추출\n",
    "step4. 내가 필요한 정보만 추출"
   ]
  },
  {
   "cell_type": "code",
   "execution_count": 45,
   "metadata": {},
   "outputs": [
    {
     "data": {
      "text/html": [
       "<style>.container { width: 100% !important; }</style>"
      ],
      "text/plain": [
       "<IPython.core.display.HTML object>"
      ]
     },
     "metadata": {},
     "output_type": "display_data"
    }
   ],
   "source": [
    "import requests \n",
    "import xmltodict # xml 데이터를 dictionary로 변환해줌\n",
    "\n",
    "# 셀 사이즈 조정하는 코드\n",
    "from IPython.core.display import display, HTML\n",
    "display(HTML(\"<style>.container { width: 100% !important; }</style>\"))"
   ]
  },
  {
   "cell_type": "markdown",
   "metadata": {},
   "source": [
    "# step1. \"url? + 파라미터(api_key)\" 정의하기"
   ]
  },
  {
   "cell_type": "code",
   "execution_count": 46,
   "metadata": {},
   "outputs": [
    {
     "data": {
      "text/plain": [
       "'GK+l5QlLpGSK9H3bruybzUiF+VA6xAMnyRYYaj8taJMMCFeqxwyCXCrby0aU9WnsaX8XmxzQrvU5mRBIrYLTMA=='"
      ]
     },
     "execution_count": 46,
     "metadata": {},
     "output_type": "execute_result"
    }
   ],
   "source": [
    "# \"url?\" 입력                                               서비스url + 오퍼레이션명          \n",
    "url = \"https://opendata.icpa.or.kr/OpenAPI/service/ipaFerryNavigatInfo/getDmstcNvgList?\" \n",
    "\n",
    "# 서비스키(api인증키) 디코딩(unquote)\n",
    "api_key = \"GK%2Bl5QlLpGSK9H3bruybzUiF%2BVA6xAMnyRYYaj8taJMMCFeqxwyCXCrby0aU9WnsaX8XmxzQrvU5mRBIrYLTMA%3D%3D\"\n",
    "api_key_decode = requests.utils.unquote(api_key) #서비스키 가동 (디코드)\n",
    "api_key_decode"
   ]
  },
  {
   "cell_type": "markdown",
   "metadata": {},
   "source": [
    "## ★파라미터 사용자 정의"
   ]
  },
  {
   "cell_type": "code",
   "execution_count": 60,
   "metadata": {},
   "outputs": [
    {
     "data": {
      "text/plain": [
       "{'ServiceKey': 'GK+l5QlLpGSK9H3bruybzUiF+VA6xAMnyRYYaj8taJMMCFeqxwyCXCrby0aU9WnsaX8XmxzQrvU5mRBIrYLTMA==',\n",
       " 'numOfROws': 10,\n",
       " 'pageNo': 1}"
      ]
     },
     "execution_count": 60,
     "metadata": {},
     "output_type": "execute_result"
    }
   ],
   "source": [
    "# 파라미터 참고 : 워드파일\"★OpenAPI활용가이드_인천항만공사_v1.5.docx\" - page 123\n",
    "                                              #갯수          페이지\n",
    "parameters = {\"ServiceKey\":api_key_decode, \"numOfROws\":10, \"pageNo\":1}\n",
    "parameters"
   ]
  },
  {
   "cell_type": "markdown",
   "metadata": {},
   "source": [
    "\n",
    "# step2. xml 데이터 확보!"
   ]
  },
  {
   "cell_type": "code",
   "execution_count": 61,
   "metadata": {
    "scrolled": false
   },
   "outputs": [
    {
     "data": {
      "text/plain": [
       "\"<?xml version='1.0' encoding='UTF-8'?><GetDmstcNvgListResponse><body><item><GetDmstcNvgListVO><alocarvltime>선사문의</alocarvltime><alocname>백령도</alocname><alocstarttime>12:50</alocstarttime><arvltime>16:30</arvltime><nvginfoname>정상운항</nvginfoname><order>1</order><ruteName>백령항로</ruteName><shipname>하모니플라워호</shipname><starttime>07:50</starttime><wtorcmpname>(주)에이치해운</wtorcmpname></GetDmstcNvgListVO><GetDmstcNvgListVO><alocarvltime>선사문의</alocarvltime><alocname>백령도</alocname><alocstarttime>13:30</alocstarttime><arvltime>17:30</arvltime><nvginfoname>정상운항</nvginfoname><order>2</order><ruteName>백령항로</ruteName><shipname>코리아킹호</shipname><starttime>08:30</starttime><wtorcmpname>고려고속훼리(주)</wtorcmpname></GetDmstcNvgListVO><GetDmstcNvgListVO><alocarvltime>선사문의</alocarvltime><alocname>백령도</alocname><alocstarttime>07:00</alocstarttime><arvltime>11:50</arvltime><nvginfoname>휴항</nvginfoname><order>3</order><ruteName>백령항로</ruteName><shipname>옹진훼미리호</shipname><starttime>13:00</starttime><wtorcmpname>고려고속훼리(주)</wtorcmpname></GetDmstcNvgListVO><GetDmstcNvgListVO><alocarvltime>선사문의</alocarvltime><alocname>대연평</alocname><alocstarttime>10:30</alocstarttime><arvltime>12:30</arvltime><nvginfoname>정상운항</nvginfoname><order>4</order><ruteName>연평항로</ruteName><shipname>플라잉카페리호</shipname><starttime>08:00</starttime><wtorcmpname>고려고속훼리(주)</wtorcmpname></GetDmstcNvgListVO><GetDmstcNvgListVO><alocarvltime>선사문의</alocarvltime><alocname>대연평</alocname><alocstarttime>15:45</alocstarttime><arvltime>17:45</arvltime><nvginfoname>정상운항</nvginfoname><order>5</order><ruteName>연평항로</ruteName><shipname>플라잉카페리호</shipname><starttime>13:15</starttime><wtorcmpname>고려고속훼리(주)</wtorcmpname></GetDmstcNvgListVO><GetDmstcNvgListVO><alocarvltime>선사문의</alocarvltime><alocname>덕적도</alocname><alocstarttime>10:00</alocstarttime><arvltime>11:10</arvltime><nvginfoname>정상운항</nvginfoname><order>6</order><ruteName>덕적항로</ruteName><shipname>코리아나</shipname><starttime>08:30</starttime><wtorcmpname>고려고속훼리(주)</wtorcmpname></GetDmstcNvgListVO><GetDmstcNvgListVO><alocarvltime>선사문의</alocarvltime><alocname>덕적도</alocname><alocstarttime>15:30</alocstarttime><arvltime>17:20</arvltime><nvginfoname>정상운항</nvginfoname><order>7</order><ruteName>덕적항로</ruteName><shipname>코리아익스프레스카훼리</shipname><starttime>09:10</starttime><wtorcmpname>고려고속훼리(주)</wtorcmpname></GetDmstcNvgListVO><GetDmstcNvgListVO><alocarvltime>선사문의</alocarvltime><alocname>덕적도</alocname><alocstarttime>16:00</alocstarttime><arvltime>17:10</arvltime><nvginfoname>정상운항</nvginfoname><order>8</order><ruteName>덕적항로</ruteName><shipname>코리아나</shipname><starttime>14:30</starttime><wtorcmpname>고려고속훼리(주)</wtorcmpname></GetDmstcNvgListVO><GetDmstcNvgListVO><alocarvltime>선사문의</alocarvltime><alocname>대이작도</alocname><alocstarttime>15:20</alocstarttime><arvltime>17:30</arvltime><nvginfoname>정상운항</nvginfoname><order>9</order><ruteName>이작항로</ruteName><shipname>대부고속페리호</shipname><starttime>07:50</starttime><wtorcmpname>(유)대부해운</wtorcmpname></GetDmstcNvgListVO><GetDmstcNvgListVO><alocarvltime>선사문의</alocarvltime><alocname>대이작도</alocname><alocstarttime>09:40</alocstarttime><arvltime>11:20</arvltime><nvginfoname>정상운항</nvginfoname><order>10</order><ruteName>이작항로</ruteName><shipname>코리아피스</shipname><starttime>08:30</starttime><wtorcmpname>고려고속훼리(주)</wtorcmpname></GetDmstcNvgListVO></item><numOfRows>10</numOfRows><pageNo>1</pageNo><totalCount>13</totalCount></body><header><resultCode>00</resultCode><resultMsg>NORMAL SERVICE.</resultMsg></header></GetDmstcNvgListResponse>\""
      ]
     },
     "execution_count": 61,
     "metadata": {},
     "output_type": "execute_result"
    }
   ],
   "source": [
    "# get메소드(url, parameter 입력)로 xml 데이터 가져오기\n",
    "req = requests.get(url, params = parameters)\n",
    "req.text # -> xml 데이터 확보"
   ]
  },
  {
   "cell_type": "code",
   "execution_count": 62,
   "metadata": {
    "scrolled": true
   },
   "outputs": [
    {
     "data": {
      "text/plain": [
       "OrderedDict([('GetDmstcNvgListResponse',\n",
       "              OrderedDict([('body',\n",
       "                            OrderedDict([('item',\n",
       "                                          OrderedDict([('GetDmstcNvgListVO',\n",
       "                                                        [OrderedDict([('alocarvltime',\n",
       "                                                                       '선사문의'),\n",
       "                                                                      ('alocname',\n",
       "                                                                       '백령도'),\n",
       "                                                                      ('alocstarttime',\n",
       "                                                                       '12:50'),\n",
       "                                                                      ('arvltime',\n",
       "                                                                       '16:30'),\n",
       "                                                                      ('nvginfoname',\n",
       "                                                                       '정상운항'),\n",
       "                                                                      ('order',\n",
       "                                                                       '1'),\n",
       "                                                                      ('ruteName',\n",
       "                                                                       '백령항로'),\n",
       "                                                                      ('shipname',\n",
       "                                                                       '하모니플라워호'),\n",
       "                                                                      ('starttime',\n",
       "                                                                       '07:50'),\n",
       "                                                                      ('wtorcmpname',\n",
       "                                                                       '(주)에이치해운')]),\n",
       "                                                         OrderedDict([('alocarvltime',\n",
       "                                                                       '선사문의'),\n",
       "                                                                      ('alocname',\n",
       "                                                                       '백령도'),\n",
       "                                                                      ('alocstarttime',\n",
       "                                                                       '13:30'),\n",
       "                                                                      ('arvltime',\n",
       "                                                                       '17:30'),\n",
       "                                                                      ('nvginfoname',\n",
       "                                                                       '정상운항'),\n",
       "                                                                      ('order',\n",
       "                                                                       '2'),\n",
       "                                                                      ('ruteName',\n",
       "                                                                       '백령항로'),\n",
       "                                                                      ('shipname',\n",
       "                                                                       '코리아킹호'),\n",
       "                                                                      ('starttime',\n",
       "                                                                       '08:30'),\n",
       "                                                                      ('wtorcmpname',\n",
       "                                                                       '고려고속훼리(주)')]),\n",
       "                                                         OrderedDict([('alocarvltime',\n",
       "                                                                       '선사문의'),\n",
       "                                                                      ('alocname',\n",
       "                                                                       '백령도'),\n",
       "                                                                      ('alocstarttime',\n",
       "                                                                       '07:00'),\n",
       "                                                                      ('arvltime',\n",
       "                                                                       '11:50'),\n",
       "                                                                      ('nvginfoname',\n",
       "                                                                       '휴항'),\n",
       "                                                                      ('order',\n",
       "                                                                       '3'),\n",
       "                                                                      ('ruteName',\n",
       "                                                                       '백령항로'),\n",
       "                                                                      ('shipname',\n",
       "                                                                       '옹진훼미리호'),\n",
       "                                                                      ('starttime',\n",
       "                                                                       '13:00'),\n",
       "                                                                      ('wtorcmpname',\n",
       "                                                                       '고려고속훼리(주)')]),\n",
       "                                                         OrderedDict([('alocarvltime',\n",
       "                                                                       '선사문의'),\n",
       "                                                                      ('alocname',\n",
       "                                                                       '대연평'),\n",
       "                                                                      ('alocstarttime',\n",
       "                                                                       '10:30'),\n",
       "                                                                      ('arvltime',\n",
       "                                                                       '12:30'),\n",
       "                                                                      ('nvginfoname',\n",
       "                                                                       '정상운항'),\n",
       "                                                                      ('order',\n",
       "                                                                       '4'),\n",
       "                                                                      ('ruteName',\n",
       "                                                                       '연평항로'),\n",
       "                                                                      ('shipname',\n",
       "                                                                       '플라잉카페리호'),\n",
       "                                                                      ('starttime',\n",
       "                                                                       '08:00'),\n",
       "                                                                      ('wtorcmpname',\n",
       "                                                                       '고려고속훼리(주)')]),\n",
       "                                                         OrderedDict([('alocarvltime',\n",
       "                                                                       '선사문의'),\n",
       "                                                                      ('alocname',\n",
       "                                                                       '대연평'),\n",
       "                                                                      ('alocstarttime',\n",
       "                                                                       '15:45'),\n",
       "                                                                      ('arvltime',\n",
       "                                                                       '17:45'),\n",
       "                                                                      ('nvginfoname',\n",
       "                                                                       '정상운항'),\n",
       "                                                                      ('order',\n",
       "                                                                       '5'),\n",
       "                                                                      ('ruteName',\n",
       "                                                                       '연평항로'),\n",
       "                                                                      ('shipname',\n",
       "                                                                       '플라잉카페리호'),\n",
       "                                                                      ('starttime',\n",
       "                                                                       '13:15'),\n",
       "                                                                      ('wtorcmpname',\n",
       "                                                                       '고려고속훼리(주)')]),\n",
       "                                                         OrderedDict([('alocarvltime',\n",
       "                                                                       '선사문의'),\n",
       "                                                                      ('alocname',\n",
       "                                                                       '덕적도'),\n",
       "                                                                      ('alocstarttime',\n",
       "                                                                       '10:00'),\n",
       "                                                                      ('arvltime',\n",
       "                                                                       '11:10'),\n",
       "                                                                      ('nvginfoname',\n",
       "                                                                       '정상운항'),\n",
       "                                                                      ('order',\n",
       "                                                                       '6'),\n",
       "                                                                      ('ruteName',\n",
       "                                                                       '덕적항로'),\n",
       "                                                                      ('shipname',\n",
       "                                                                       '코리아나'),\n",
       "                                                                      ('starttime',\n",
       "                                                                       '08:30'),\n",
       "                                                                      ('wtorcmpname',\n",
       "                                                                       '고려고속훼리(주)')]),\n",
       "                                                         OrderedDict([('alocarvltime',\n",
       "                                                                       '선사문의'),\n",
       "                                                                      ('alocname',\n",
       "                                                                       '덕적도'),\n",
       "                                                                      ('alocstarttime',\n",
       "                                                                       '15:30'),\n",
       "                                                                      ('arvltime',\n",
       "                                                                       '17:20'),\n",
       "                                                                      ('nvginfoname',\n",
       "                                                                       '정상운항'),\n",
       "                                                                      ('order',\n",
       "                                                                       '7'),\n",
       "                                                                      ('ruteName',\n",
       "                                                                       '덕적항로'),\n",
       "                                                                      ('shipname',\n",
       "                                                                       '코리아익스프레스카훼리'),\n",
       "                                                                      ('starttime',\n",
       "                                                                       '09:10'),\n",
       "                                                                      ('wtorcmpname',\n",
       "                                                                       '고려고속훼리(주)')]),\n",
       "                                                         OrderedDict([('alocarvltime',\n",
       "                                                                       '선사문의'),\n",
       "                                                                      ('alocname',\n",
       "                                                                       '덕적도'),\n",
       "                                                                      ('alocstarttime',\n",
       "                                                                       '16:00'),\n",
       "                                                                      ('arvltime',\n",
       "                                                                       '17:10'),\n",
       "                                                                      ('nvginfoname',\n",
       "                                                                       '정상운항'),\n",
       "                                                                      ('order',\n",
       "                                                                       '8'),\n",
       "                                                                      ('ruteName',\n",
       "                                                                       '덕적항로'),\n",
       "                                                                      ('shipname',\n",
       "                                                                       '코리아나'),\n",
       "                                                                      ('starttime',\n",
       "                                                                       '14:30'),\n",
       "                                                                      ('wtorcmpname',\n",
       "                                                                       '고려고속훼리(주)')]),\n",
       "                                                         OrderedDict([('alocarvltime',\n",
       "                                                                       '선사문의'),\n",
       "                                                                      ('alocname',\n",
       "                                                                       '대이작도'),\n",
       "                                                                      ('alocstarttime',\n",
       "                                                                       '15:20'),\n",
       "                                                                      ('arvltime',\n",
       "                                                                       '17:30'),\n",
       "                                                                      ('nvginfoname',\n",
       "                                                                       '정상운항'),\n",
       "                                                                      ('order',\n",
       "                                                                       '9'),\n",
       "                                                                      ('ruteName',\n",
       "                                                                       '이작항로'),\n",
       "                                                                      ('shipname',\n",
       "                                                                       '대부고속페리호'),\n",
       "                                                                      ('starttime',\n",
       "                                                                       '07:50'),\n",
       "                                                                      ('wtorcmpname',\n",
       "                                                                       '(유)대부해운')]),\n",
       "                                                         OrderedDict([('alocarvltime',\n",
       "                                                                       '선사문의'),\n",
       "                                                                      ('alocname',\n",
       "                                                                       '대이작도'),\n",
       "                                                                      ('alocstarttime',\n",
       "                                                                       '09:40'),\n",
       "                                                                      ('arvltime',\n",
       "                                                                       '11:20'),\n",
       "                                                                      ('nvginfoname',\n",
       "                                                                       '정상운항'),\n",
       "                                                                      ('order',\n",
       "                                                                       '10'),\n",
       "                                                                      ('ruteName',\n",
       "                                                                       '이작항로'),\n",
       "                                                                      ('shipname',\n",
       "                                                                       '코리아피스'),\n",
       "                                                                      ('starttime',\n",
       "                                                                       '08:30'),\n",
       "                                                                      ('wtorcmpname',\n",
       "                                                                       '고려고속훼리(주)')])])])),\n",
       "                                         ('numOfRows', '10'),\n",
       "                                         ('pageNo', '1'),\n",
       "                                         ('totalCount', '13')])),\n",
       "                           ('header',\n",
       "                            OrderedDict([('resultCode', '00'),\n",
       "                                         ('resultMsg',\n",
       "                                          'NORMAL SERVICE.')]))]))])"
      ]
     },
     "execution_count": 62,
     "metadata": {},
     "output_type": "execute_result"
    }
   ],
   "source": [
    "# 가져온 xml 데이터를 dictionary 형태로 바꾸기(xmltodict 이용)\n",
    "xml_data = xmltodict.parse(req.text)\n",
    "xml_data"
   ]
  },
  {
   "cell_type": "markdown",
   "metadata": {
    "scrolled": true
   },
   "source": [
    "# step3. xml 데이터에서 내용만 추출"
   ]
  },
  {
   "cell_type": "code",
   "execution_count": 63,
   "metadata": {
    "scrolled": false
   },
   "outputs": [
    {
     "name": "stdout",
     "output_type": "stream",
     "text": [
      "10\n",
      "<class 'list'>\n"
     ]
    },
    {
     "data": {
      "text/plain": [
       "[OrderedDict([('alocarvltime', '선사문의'),\n",
       "              ('alocname', '백령도'),\n",
       "              ('alocstarttime', '12:50'),\n",
       "              ('arvltime', '16:30'),\n",
       "              ('nvginfoname', '정상운항'),\n",
       "              ('order', '1'),\n",
       "              ('ruteName', '백령항로'),\n",
       "              ('shipname', '하모니플라워호'),\n",
       "              ('starttime', '07:50'),\n",
       "              ('wtorcmpname', '(주)에이치해운')]),\n",
       " OrderedDict([('alocarvltime', '선사문의'),\n",
       "              ('alocname', '백령도'),\n",
       "              ('alocstarttime', '13:30'),\n",
       "              ('arvltime', '17:30'),\n",
       "              ('nvginfoname', '정상운항'),\n",
       "              ('order', '2'),\n",
       "              ('ruteName', '백령항로'),\n",
       "              ('shipname', '코리아킹호'),\n",
       "              ('starttime', '08:30'),\n",
       "              ('wtorcmpname', '고려고속훼리(주)')]),\n",
       " OrderedDict([('alocarvltime', '선사문의'),\n",
       "              ('alocname', '백령도'),\n",
       "              ('alocstarttime', '07:00'),\n",
       "              ('arvltime', '11:50'),\n",
       "              ('nvginfoname', '휴항'),\n",
       "              ('order', '3'),\n",
       "              ('ruteName', '백령항로'),\n",
       "              ('shipname', '옹진훼미리호'),\n",
       "              ('starttime', '13:00'),\n",
       "              ('wtorcmpname', '고려고속훼리(주)')]),\n",
       " OrderedDict([('alocarvltime', '선사문의'),\n",
       "              ('alocname', '대연평'),\n",
       "              ('alocstarttime', '10:30'),\n",
       "              ('arvltime', '12:30'),\n",
       "              ('nvginfoname', '정상운항'),\n",
       "              ('order', '4'),\n",
       "              ('ruteName', '연평항로'),\n",
       "              ('shipname', '플라잉카페리호'),\n",
       "              ('starttime', '08:00'),\n",
       "              ('wtorcmpname', '고려고속훼리(주)')]),\n",
       " OrderedDict([('alocarvltime', '선사문의'),\n",
       "              ('alocname', '대연평'),\n",
       "              ('alocstarttime', '15:45'),\n",
       "              ('arvltime', '17:45'),\n",
       "              ('nvginfoname', '정상운항'),\n",
       "              ('order', '5'),\n",
       "              ('ruteName', '연평항로'),\n",
       "              ('shipname', '플라잉카페리호'),\n",
       "              ('starttime', '13:15'),\n",
       "              ('wtorcmpname', '고려고속훼리(주)')]),\n",
       " OrderedDict([('alocarvltime', '선사문의'),\n",
       "              ('alocname', '덕적도'),\n",
       "              ('alocstarttime', '10:00'),\n",
       "              ('arvltime', '11:10'),\n",
       "              ('nvginfoname', '정상운항'),\n",
       "              ('order', '6'),\n",
       "              ('ruteName', '덕적항로'),\n",
       "              ('shipname', '코리아나'),\n",
       "              ('starttime', '08:30'),\n",
       "              ('wtorcmpname', '고려고속훼리(주)')]),\n",
       " OrderedDict([('alocarvltime', '선사문의'),\n",
       "              ('alocname', '덕적도'),\n",
       "              ('alocstarttime', '15:30'),\n",
       "              ('arvltime', '17:20'),\n",
       "              ('nvginfoname', '정상운항'),\n",
       "              ('order', '7'),\n",
       "              ('ruteName', '덕적항로'),\n",
       "              ('shipname', '코리아익스프레스카훼리'),\n",
       "              ('starttime', '09:10'),\n",
       "              ('wtorcmpname', '고려고속훼리(주)')]),\n",
       " OrderedDict([('alocarvltime', '선사문의'),\n",
       "              ('alocname', '덕적도'),\n",
       "              ('alocstarttime', '16:00'),\n",
       "              ('arvltime', '17:10'),\n",
       "              ('nvginfoname', '정상운항'),\n",
       "              ('order', '8'),\n",
       "              ('ruteName', '덕적항로'),\n",
       "              ('shipname', '코리아나'),\n",
       "              ('starttime', '14:30'),\n",
       "              ('wtorcmpname', '고려고속훼리(주)')]),\n",
       " OrderedDict([('alocarvltime', '선사문의'),\n",
       "              ('alocname', '대이작도'),\n",
       "              ('alocstarttime', '15:20'),\n",
       "              ('arvltime', '17:30'),\n",
       "              ('nvginfoname', '정상운항'),\n",
       "              ('order', '9'),\n",
       "              ('ruteName', '이작항로'),\n",
       "              ('shipname', '대부고속페리호'),\n",
       "              ('starttime', '07:50'),\n",
       "              ('wtorcmpname', '(유)대부해운')]),\n",
       " OrderedDict([('alocarvltime', '선사문의'),\n",
       "              ('alocname', '대이작도'),\n",
       "              ('alocstarttime', '09:40'),\n",
       "              ('arvltime', '11:20'),\n",
       "              ('nvginfoname', '정상운항'),\n",
       "              ('order', '10'),\n",
       "              ('ruteName', '이작항로'),\n",
       "              ('shipname', '코리아피스'),\n",
       "              ('starttime', '08:30'),\n",
       "              ('wtorcmpname', '고려고속훼리(주)')])]"
      ]
     },
     "execution_count": 63,
     "metadata": {},
     "output_type": "execute_result"
    }
   ],
   "source": [
    "informations = xml_data['GetDmstcNvgListResponse']['body']['item']['GetDmstcNvgListVO']\n",
    "\n",
    "print(len(informations))\n",
    "print(type(informations))\n",
    "informations"
   ]
  },
  {
   "cell_type": "code",
   "execution_count": 64,
   "metadata": {},
   "outputs": [
    {
     "data": {
      "text/plain": [
       "'백령도'"
      ]
     },
     "execution_count": 64,
     "metadata": {},
     "output_type": "execute_result"
    }
   ],
   "source": [
    "data = informations[0]['alocname']\n",
    "data"
   ]
  },
  {
   "cell_type": "markdown",
   "metadata": {},
   "source": [
    "# step4. 내가 필요한 정보만 추출"
   ]
  },
  {
   "cell_type": "code",
   "execution_count": 65,
   "metadata": {},
   "outputs": [
    {
     "name": "stdout",
     "output_type": "stream",
     "text": [
      "기항지명: 백령도\n",
      "인천항 출발시간: 07:50\n",
      "기항지 도착시간: 선사문의\n",
      "기항지 출발시간: 12:50\n",
      "인천항 도착시간: 16:30\n",
      "운항정보: 정상운항\n",
      "항로명: 백령항로\n",
      "선명: 하모니플라워호\n",
      "선사명: (주)에이치해운\n",
      "\n",
      "기항지명: 백령도\n",
      "인천항 출발시간: 08:30\n",
      "기항지 도착시간: 선사문의\n",
      "기항지 출발시간: 13:30\n",
      "인천항 도착시간: 17:30\n",
      "운항정보: 정상운항\n",
      "항로명: 백령항로\n",
      "선명: 코리아킹호\n",
      "선사명: 고려고속훼리(주)\n",
      "\n",
      "기항지명: 백령도\n",
      "인천항 출발시간: 13:00\n",
      "기항지 도착시간: 선사문의\n",
      "기항지 출발시간: 07:00\n",
      "인천항 도착시간: 11:50\n",
      "운항정보: 휴항\n",
      "항로명: 백령항로\n",
      "선명: 옹진훼미리호\n",
      "선사명: 고려고속훼리(주)\n",
      "\n"
     ]
    }
   ],
   "source": [
    "# \"백령도\" 관련된 정보만 가져오기\n",
    "for data in informations:\n",
    "    if data['alocname'] == '백령도':\n",
    "        print(\"기항지명: {}\".format(data['alocname']))\n",
    "        print(\"인천항 출발시간: {}\".format(data['starttime']))\n",
    "        print(\"기항지 도착시간: {}\".format(data['alocarvltime']))\n",
    "        print(\"기항지 출발시간: {}\".format(data['alocstarttime']))\n",
    "        print(\"인천항 도착시간: {}\".format(data['arvltime']))\n",
    "        print(\"운항정보: {}\".format(data['nvginfoname']))\n",
    "        print(\"항로명: {}\".format(data['ruteName']))\n",
    "        print(\"선명: {}\".format(data['shipname']))\n",
    "        print(\"선사명: {}\".format(data['wtorcmpname']))\n",
    "        print(\"\")\n",
    "        "
   ]
  },
  {
   "cell_type": "code",
   "execution_count": 36,
   "metadata": {},
   "outputs": [],
   "source": [
    "#2hRG6CE9VwKPxbi%2BNiZ1EGvHaghzZFKwv0D8guJ8ieKVpdmq0NEVO8XLqI8iNOBeazs9Z0%2Fuc%2Bjq2FTWQ7bwww%3D%3D 내꺼"
   ]
  },
  {
   "cell_type": "code",
   "execution_count": 37,
   "metadata": {},
   "outputs": [],
   "source": [
    "#GK%2Bl5QlLpGSK9H3bruybzUiF%2BVA6xAMnyRYYaj8taJMMCFeqxwyCXCrby0aU9WnsaX8XmxzQrvU5mRBIrYLTMA%3D%3D 원본"
   ]
  },
  {
   "cell_type": "code",
   "execution_count": null,
   "metadata": {},
   "outputs": [],
   "source": []
  },
  {
   "cell_type": "code",
   "execution_count": null,
   "metadata": {},
   "outputs": [],
   "source": []
  }
 ],
 "metadata": {
  "kernelspec": {
   "display_name": "Python 3",
   "language": "python",
   "name": "python3"
  },
  "language_info": {
   "codemirror_mode": {
    "name": "ipython",
    "version": 3
   },
   "file_extension": ".py",
   "mimetype": "text/x-python",
   "name": "python",
   "nbconvert_exporter": "python",
   "pygments_lexer": "ipython3",
   "version": "3.8.3"
  },
  "varInspector": {
   "cols": {
    "lenName": 16,
    "lenType": 16,
    "lenVar": 40
   },
   "kernels_config": {
    "python": {
     "delete_cmd_postfix": "",
     "delete_cmd_prefix": "del ",
     "library": "var_list.py",
     "varRefreshCmd": "print(var_dic_list())"
    },
    "r": {
     "delete_cmd_postfix": ") ",
     "delete_cmd_prefix": "rm(",
     "library": "var_list.r",
     "varRefreshCmd": "cat(var_dic_list()) "
    }
   },
   "types_to_exclude": [
    "module",
    "function",
    "builtin_function_or_method",
    "instance",
    "_Feature"
   ],
   "window_display": false
  }
 },
 "nbformat": 4,
 "nbformat_minor": 4
}
