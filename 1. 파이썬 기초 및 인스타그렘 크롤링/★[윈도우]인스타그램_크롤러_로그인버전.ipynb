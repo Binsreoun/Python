{
 "cells": [
  {
   "cell_type": "code",
   "execution_count": 1,
   "metadata": {},
   "outputs": [
    {
     "name": "stdout",
     "output_type": "stream",
     "text": [
      "Python 3.7.6\n"
     ]
    }
   ],
   "source": [
    "!python --version"
   ]
  },
  {
   "cell_type": "code",
   "execution_count": 2,
   "metadata": {},
   "outputs": [
    {
     "data": {
      "text/plain": [
       "'C:\\\\Users\\\\USER\\\\Desktop\\\\Python_Basic'"
      ]
     },
     "execution_count": 2,
     "metadata": {},
     "output_type": "execute_result"
    }
   ],
   "source": [
    "pwd #작업위치"
   ]
  },
  {
   "cell_type": "code",
   "execution_count": 3,
   "metadata": {},
   "outputs": [],
   "source": [
    "import pandas as pd #핀다스 - 데이터프레임\n",
    "import numpy as np #넘파이 - 수학 연산 "
   ]
  },
  {
   "cell_type": "code",
   "execution_count": 39,
   "metadata": {},
   "outputs": [],
   "source": [
    "# 라이브러리 import\n",
    "# 라이브러리 : 필요한 도구\n",
    "# pip install\n",
    "from selenium import webdriver  # 라이브러리(모듈) 가져오라\n",
    "from selenium.webdriver import ActionChains as AC #클릭\n",
    "from tqdm import tqdm #for문 진행상황 체크\n",
    "from tqdm.notebook import tqdm #for문 진행 확인\n",
    "import re #regular expression(정규표현방식) : # 제거\n",
    "from time import sleep #시간지연. 크롬창 부드럽게\n",
    "import time"
   ]
  },
  {
   "cell_type": "code",
   "execution_count": 43,
   "metadata": {},
   "outputs": [
    {
     "data": {
      "text/plain": [
       "'차량용방향제'"
      ]
     },
     "execution_count": 43,
     "metadata": {},
     "output_type": "execute_result"
    }
   ],
   "source": [
    "# 데이터 수집할 키워드 지정\n",
    "keywords = [\"차량용방향제\"] # 검색어 리스트 \n",
    "keywords[0] #리스트 인덱싱"
   ]
  },
  {
   "cell_type": "markdown",
   "metadata": {},
   "source": [
    "## 크롤링"
   ]
  },
  {
   "cell_type": "code",
   "execution_count": 54,
   "metadata": {
    "scrolled": true
   },
   "outputs": [],
   "source": [
    "# 크롬창 띄우기\n",
    "driver = webdriver.Chrome(\"chromedriver.exe\")  # 크롬 드라이버 다운로드!!\n",
    "driver.get(\"https://www.instagram.com/explore/tags/%EC%B0%A8%EB%9F%89%EC%9A%A9%EB%B0%A9%ED%96%A5%EC%A0%9C/\")  \n",
    "# \"#차량용방향제\" 검색\n",
    "time.sleep(5)"
   ]
  },
  {
   "cell_type": "code",
   "execution_count": 44,
   "metadata": {},
   "outputs": [],
   "source": [
    "#로그인을 수동으로"
   ]
  },
  {
   "cell_type": "code",
   "execution_count": 56,
   "metadata": {
    "scrolled": true
   },
   "outputs": [
    {
     "data": {
      "application/vnd.jupyter.widget-view+json": {
       "model_id": "6add4d4c22df4764b525600f18ea2df5",
       "version_major": 2,
       "version_minor": 0
      },
      "text/plain": [
       "HBox(children=(FloatProgress(value=0.0, max=50.0), HTML(value='')))"
      ]
     },
     "metadata": {},
     "output_type": "display_data"
    },
    {
     "name": "stdout",
     "output_type": "stream",
     "text": [
      "0  왠지너를버릴수가없구나\n",
      "1  슈리엔 조향 디퓨져 고급디퓨져 룸스프레이 플로리스트 florist surien 감성향 향기 진주 진주핫플레이스 진주혁신도시 로즈향 서울 슈리엔플라워부띠끄 roomspray diffuser 설레움55 더블유컨셉 wconcept busan 부산 아이디어스 장미향수 장미향기 차량용방향제 방향제 섬유향수\n",
      "2  슈리엔 조향 디퓨져 고급디퓨져 룸스프레이 플로리스트 florist surien 감성향 향기 진주 진주핫플레이스 진주혁신도시 로즈향 서울 슈리엔플라워부띠끄 roomspray diffuser 설레움55 더블유컨셉 wconcept busan 부산 아이디어스 장미향수 장미향기 차량용방향제 방향제 섬유향수\n",
      "3 \n",
      "4  귀여워\n",
      "5  Repost 차량용디퓨저 차량포토방향제 차량용사진방향제 차량용방향제 메탈차량용방향제 차량용액자 차량선물추천 맞춤형선물 주문제작방향제 베오몰 알센트포토 체험단모집 체험이벤트 이벤트\n",
      "6 \n",
      "7  양키캔들당진점 전국택배가능 양키캔들 방향제 선물 당진여행 당진선물 당진방향제 당진양키캔들 양키캔들디퓨저 당진디퓨저 신혼부부선물 양키캔들워머 집들이선물 개업선물 답례품 단체선물 기업체선물 결혼선물 생일선물 양키캔들선물세트 차량용방향제 자동차 인테리어소품 캔들워머 미니워머 조명 향기스타그램 왜목마을 캠핑\n",
      "8  양키캔들당진점 전국택배가능 양키캔들 방향제 선물 당진여행 당진선물 당진방향제 당진양키캔들 양키캔들디퓨저 당진디퓨저 신혼부부선물 양키캔들워머 집들이선물 개업선물 답례품 단체선물 기업체선물 결혼선물 생일선물 엘리베이션캔들 닥터브라네스 차량용방향제 인테리어소품 캔들워머 미니워머 조명 향기스타그램 왜목마을 캠핑\n",
      "9  리볼버 리뷰스타그램\n",
      "10  브로우핏 아이라인문신 눈썹반영구 눈썹반영구잘하는곳 철산 이쁨주의 디퓨져 디퓨져주문제작 디퓨져추천 디퓨져선물 인테리어 자동차디퓨져 자동차필수품 차량용방향제 차량용디퓨져 실내필수품 향긋 시원 달콤 오일 발향 주문 대량주문가능 일상 주말 소통\n",
      "11  브로우핏 아이라인문신 눈썹반영구 눈썹반영구잘하는곳 철산 이쁨주의 디퓨져 디퓨져주문제작 디퓨져추천 디퓨져선물 인테리어 자동차디퓨져 자동차필수품 차량용방향제 차량용디퓨져 실내필수품 향긋 시원 달콤 오일 발향 주문 대량주문가능 일상 주말 소통\n",
      "12  일상 데일리 핸드크림추천 고급짐 오센트 오센트핸드케어 오센트핸드크림 오센트방향제 onscent 선물 선물추천 오센트차량용방향제 차량용방향제 차량용디퓨저 일상 데일리 후기\n",
      "13  석고방향제 차량용석고방향제 까멜리아석고방향제 김해데이트 김해커플체험 플라워 김해향수공방 좋아요반사 김해캔들 소품 좋아요 소통해요 셀프인테리어 김해공방 창원캔들 인테리어소품 김해캔들공방 장유캔들 차량용방향제 부산석고방향제 마산석고방향제 창원석고방향제 김해석고방향제 장유캔들공방 장유석고방향제 김해원데이클래스 김해취미생활 일상 소통 daily\n",
      "14  라니스후기\n",
      "15  포얼디 석고방향제\n",
      "16 \n",
      "17 \n",
      "18  아로마푸딩 부모님선물 남편선물 선물 차량용방향제 차량용액자 차량용액자방향제\n",
      "19  7\n",
      "20 \n",
      "22  lightright candle 오팔린화병\n",
      "23  차량용디퓨저 차량포토방향제 차량용사진방향제 차량용방향제 메탈차량용방향제 차량용액자 차량선물추천 맞춤형선물 주문제작방향제 베오몰 알센트포토 체험단모집 체험이벤트 이벤트\n",
      "24  탄생석비누 CP비누 숙성비누 감천문화마을체험관 캔들자격증수강생모집 비누꽃미니화환 꽃바구니 어버이날선물 기념일선물 결혼선물 결혼답례품 돌답례품 핸드메이드 소이캔들 젤캔들체험 디저트캔들체험 석고방향제 빈티지아트석고방향제수강생모집 몰드원데이수업수강생모집 명품향수체험 차량용방향제 도우아트원데이수업자격증모집 규조토파우더아트케어자격증반모집 제습탈취 부산 감천문화마을 원데이클래스 부산원데이클래스\n",
      "25  슬기 석고방향제 차량용방향제 차량용석고방향제 부산소품샵 부산석고방향제 양산석고방향제 양산공방 새차선물 신상 신상업뎃 답례품 소량답례품 육퇴 돌답례품 얼집선물 퇴사선물 자동차용품 여친선물 세서미스트리트 세사미 엘모 쿠키몬스터 캐릭터소품\n",
      "26 \n",
      "27  방 차량방향제 차량용석고방향제\n",
      "28 \n",
      "29  별센트 byeolscent 플라워디퓨저 별내방향제\n",
      "30  베어리스타석고방향제 스타벅스 스타벅스석고방향제 스타벅스방향제 starbucks 스타벅스이니셜 석고방향제 차량용방향제 이니셜석고방향제 파트너선물 남친선물 여친선물 생일선물 인테리어소품 콩고야 핸드메이드 소통 일상 데일리 예쁜방향제 베어리스타방향제 스타벅스닉네임 스타벅스로고 리저브 스타벅스리저브 스타벅스주차번호판 리저브석고방향제 리저브방향제\n",
      "31  오센트 ohscent 차량용방향제 차량용디퓨저\n",
      "32  토이스토리 우디 버즈 석고방향제 차량용방향제 냉장고자석 꽃방향제 소이캔들 추억 캔들체험 연희동 연희동커플데이트 원데이클래스 키즈원데이클래스 천연입욕제 연희동공방 연희동캔들 연희동입욕제 연희동캔들공방 연희동석고방향제 디퓨져 향수 연희동답례품 레이지나인 도드로드\n",
      "33  협찬 sponsored 블랙팟 블랙팟퍼펙트퍼퓸스틱 퍼퓸스틱 차량용방향제 차량용방향제추천 방향저 차량방향제 차량용스틱방향제 차량용품 카테리어 차스타그램 방향제 차량용디퓨저\n",
      "34  플라워디퓨저 플라워디퓨저 디퓨저 차량용디퓨저 차량용방향제 방향제 미니방향제 미니디퓨저 부담없는선물 선물 라이크초\n",
      "35  석고방향제 차량용방향제 수제몰드 실리콘몰드 빈스퍼퓸 봄쓰몰 차량용석고방향제 캐릭터석고방향제 주차번호판석고방향제 차량용주차번호판 차량용인테리어소품 경산석고방향제 대구석고방향제 선물 선물스타그램 여친선물추천 좋아요\n",
      "36  선샤인캔들 실속답례품 스마일석고방향제 차량용방향제 반영구방향제 주문제작 수제방향제 소량답례품 최소30개 향기로운선물 단체선물 홍보품 판촉물 오픈선물 석고방향제 석고타블렛 개업선물 퇴사선물 핸드메이드 handmade 무료선물포장 5ml무료증정오일 주문만하세요\n",
      "37 \n",
      "38  샤넬석고방향제 부산러블리캔들 정관러블리캔들 러블리캔들 차량용방향제 차량용석고방향제 차량용송풍구방향제 예쁜석고방향제 석고방향제맛집 석고방향제\n",
      "39  수박페도라 데코모자 맛집 수박 석고방향제 석고오너먼트 차량용방향제 차량용석고방향제 답례품추천 취미그램\n",
      "40  ADOR 어도르 월요팅\n",
      "41  여름 할인 할인이벤트 세일 에어팟케이스 귀여운에어팟케이스 에어팟키링 디퓨저 차량용디퓨저 디퓨저오일 방향제 차량용방향제\n",
      "42 \n",
      "43  ootd\n",
      "44  석고방향제 오랜만에 작업 대충찍어도 예쁨주의 스머프 짱구 스누피 캐릭터석고방향제 기념품 차량용방향제\n",
      "45  만지작석고방향제 만지작오너먼트 만지작방향제 차량용석고방향제 차량용방향제 송풍구방향제 돌답례품 개업답례품 기업답례품 웨딩답례품\n",
      "46  에이디스 차량용방향제 차량용디퓨저 천연디퓨저\n",
      "47  석고방향제 차량용방향제 포토석고방향제 포토석고 포토플라스터 한국석고공예협회 석고공예전문지도사 차량용석고방향제\n",
      "48  꽃내음방향제 석고방향제 차량용방향제 하트방향제 차량인테리어 핸드메이드 예뻐서난리 단골고객 차량소품 인기제품 문의환영 주문가능\n",
      "49  아메 똑닮았네 귀여워귀여워 차량용방향제 강아지방향제\n",
      "\n",
      "{0: {'picture': 'https://scontent-ssn1-1.cdninstagram.com/v/t51.2885-15/e35/s1080x1080/109240738_578668403019242_8378046278136565337_n.jpg?_nc_ht=scontent-ssn1-1.cdninstagram.com&_nc_cat=102&_nc_ohc=3tjeZY_Me90AX_Ewq_I&oh=5e11161b08b610f34f09120a29019d7d&oe=5F3D536C', 'date': '2020년 7월 20일', 'like': '좋아요 21개', 'tag': ' 왠지너를버릴수가없구나'}, 1: {'picture': 'https://scontent-ssn1-1.cdninstagram.com/v/t51.2885-15/e35/109437937_161039972217835_4162782580068855075_n.jpg?_nc_ht=scontent-ssn1-1.cdninstagram.com&_nc_cat=107&_nc_ohc=Znkes1sPg80AX-vN1Ho&oh=2f7f1b0198addc768b7bfcbb9b00238f&oe=5F3DCA41', 'date': '2020년 7월 20일', 'like': '가장 먼저 \\n좋아요\\n를 눌러보세요', 'tag': ' 슈리엔 조향 디퓨져 고급디퓨져 룸스프레이 플로리스트 florist surien 감성향 향기 진주 진주핫플레이스 진주혁신도시 로즈향 서울 슈리엔플라워부띠끄 roomspray diffuser 설레움55 더블유컨셉 wconcept busan 부산 아이디어스 장미향수 장미향기 차량용방향제 방향제 섬유향수'}, 2: {'picture': 'https://scontent-ssn1-1.cdninstagram.com/v/t51.2885-15/e35/110286141_869122266948417_6001662130125597799_n.jpg?_nc_ht=scontent-ssn1-1.cdninstagram.com&_nc_cat=109&_nc_ohc=O_XJxgfKfVAAX8njiTB&oh=d0f1e80f51918cb724b78aac04c9c9b4&oe=5F3D2A63', 'date': '2020년 7월 20일', 'like': '좋아요 7개', 'tag': ' 슈리엔 조향 디퓨져 고급디퓨져 룸스프레이 플로리스트 florist surien 감성향 향기 진주 진주핫플레이스 진주혁신도시 로즈향 서울 슈리엔플라워부띠끄 roomspray diffuser 설레움55 더블유컨셉 wconcept busan 부산 아이디어스 장미향수 장미향기 차량용방향제 방향제 섬유향수'}, 3: {'picture': 'https://scontent-ssn1-1.cdninstagram.com/v/t51.2885-15/e35/s1080x1080/109990028_160053998964657_6176209908444743180_n.jpg?_nc_ht=scontent-ssn1-1.cdninstagram.com&_nc_cat=109&_nc_ohc=-AcOf7Eev_sAX-OUI1E&oh=c46da41a871ede8f1cf6637015d96d0f&oe=5F3CC5DF', 'date': '2020년 7월 20일', 'like': '좋아요 21개', 'tag': ''}, 4: {'picture': 'https://scontent-ssn1-1.cdninstagram.com/v/t51.2885-15/e35/s1080x1080/110200569_611764809749664_7155792670292733031_n.jpg?_nc_ht=scontent-ssn1-1.cdninstagram.com&_nc_cat=100&_nc_ohc=CAN3na7LCBMAX_aYobj&oh=46ffe85271dcdc6d14b07754f5d59358&oe=5F3F7504', 'date': '2020년 7월 20일', 'like': '좋아요 3개', 'tag': ' 귀여워'}, 5: {'picture': 'https://scontent-ssn1-1.cdninstagram.com/v/t51.2885-15/e35/s1080x1080/110277007_665352767388940_8357419347074304040_n.jpg?_nc_ht=scontent-ssn1-1.cdninstagram.com&_nc_cat=104&_nc_ohc=3eZHYkV2KdAAX9GPnJN&oh=5ffb822e7623e87f3f7474753f98ee70&oe=5F3F1EFE', 'date': '2020년 7월 20일', 'like': '좋아요 3개', 'tag': ' Repost 차량용디퓨저 차량포토방향제 차량용사진방향제 차량용방향제 메탈차량용방향제 차량용액자 차량선물추천 맞춤형선물 주문제작방향제 베오몰 알센트포토 체험단모집 체험이벤트 이벤트'}, 6: {'picture': 'https://scontent-ssn1-1.cdninstagram.com/v/t51.2885-15/e35/s1080x1080/115823830_135897004853604_6340218652707045788_n.jpg?_nc_ht=scontent-ssn1-1.cdninstagram.com&_nc_cat=100&_nc_ohc=_V4Z9pX1_38AX-0-bT2&oh=6a68cb0e1327d03b5d62ace074ee19af&oe=5F3FD6A2', 'date': '2020년 7월 20일', 'like': '좋아요 20개', 'tag': ''}, 7: {'picture': 'https://scontent-ssn1-1.cdninstagram.com/v/t51.2885-15/e35/s1080x1080/109361701_735470540571686_1594295444342875814_n.jpg?_nc_ht=scontent-ssn1-1.cdninstagram.com&_nc_cat=102&_nc_ohc=LDpXyxKQO20AX_zyyB5&oh=819547b787880f5e594f4b42935f575b&oe=5F4001BD', 'date': '2020년 7월 20일', 'like': '좋아요 13개', 'tag': ' 양키캔들당진점 전국택배가능 양키캔들 방향제 선물 당진여행 당진선물 당진방향제 당진양키캔들 양키캔들디퓨저 당진디퓨저 신혼부부선물 양키캔들워머 집들이선물 개업선물 답례품 단체선물 기업체선물 결혼선물 생일선물 양키캔들선물세트 차량용방향제 자동차 인테리어소품 캔들워머 미니워머 조명 향기스타그램 왜목마을 캠핑'}, 8: {'picture': 'https://scontent-ssn1-1.cdninstagram.com/v/t51.2885-15/e35/s1080x1080/107963381_2663543160640915_2785701045660005031_n.jpg?_nc_ht=scontent-ssn1-1.cdninstagram.com&_nc_cat=107&_nc_ohc=KVPk_m8E_4gAX8OxtLW&oh=77249f444304b5d1069a6d65ec843045&oe=5F3F0E6B', 'date': '2020년 7월 20일', 'like': '좋아요 13개', 'tag': ' 양키캔들당진점 전국택배가능 양키캔들 방향제 선물 당진여행 당진선물 당진방향제 당진양키캔들 양키캔들디퓨저 당진디퓨저 신혼부부선물 양키캔들워머 집들이선물 개업선물 답례품 단체선물 기업체선물 결혼선물 생일선물 엘리베이션캔들 닥터브라네스 차량용방향제 인테리어소품 캔들워머 미니워머 조명 향기스타그램 왜목마을 캠핑'}, 9: {'picture': 'https://scontent-ssn1-1.cdninstagram.com/v/t51.2885-15/e35/s1080x1080/109765951_842308899633302_3799050675568248385_n.jpg?_nc_ht=scontent-ssn1-1.cdninstagram.com&_nc_cat=102&_nc_ohc=zDXB3uJpKwUAX-d2RiD&oh=e91610848c2a75a1379b712d7b382120&oe=5F40A331', 'date': '2020년 7월 20일', 'like': '좋아요 13개', 'tag': ' 리볼버 리뷰스타그램'}, 10: {'picture': 'https://scontent-ssn1-1.cdninstagram.com/v/t51.2885-15/e35/s1080x1080/110016647_1461424220718598_4537740469664370880_n.jpg?_nc_ht=scontent-ssn1-1.cdninstagram.com&_nc_cat=110&_nc_ohc=fqs1pjk1VnQAX8yD4ku&oh=a6ca8d93fba0ecd4293e750e2b6c9292&oe=5F3FA7E2', 'date': '2020년 7월 20일', 'like': '좋아요 9개', 'tag': ' 브로우핏 아이라인문신 눈썹반영구 눈썹반영구잘하는곳 철산 이쁨주의 디퓨져 디퓨져주문제작 디퓨져추천 디퓨져선물 인테리어 자동차디퓨져 자동차필수품 차량용방향제 차량용디퓨져 실내필수품 향긋 시원 달콤 오일 발향 주문 대량주문가능 일상 주말 소통'}, 11: {'picture': 'https://scontent-ssn1-1.cdninstagram.com/v/t51.2885-15/e35/s1080x1080/111207521_1781591788650427_1076625526583731784_n.jpg?_nc_ht=scontent-ssn1-1.cdninstagram.com&_nc_cat=107&_nc_ohc=pBBSkl2zPX0AX-5zXdn&oh=1e893934962ac6ae5f9d25fec80f94d1&oe=5F3D4994', 'date': '2020년 7월 20일', 'like': '좋아요 6개', 'tag': ' 브로우핏 아이라인문신 눈썹반영구 눈썹반영구잘하는곳 철산 이쁨주의 디퓨져 디퓨져주문제작 디퓨져추천 디퓨져선물 인테리어 자동차디퓨져 자동차필수품 차량용방향제 차량용디퓨져 실내필수품 향긋 시원 달콤 오일 발향 주문 대량주문가능 일상 주말 소통'}, 12: {'picture': 'https://scontent-ssn1-1.cdninstagram.com/v/t51.2885-15/e35/s1080x1080/109415177_646204622696421_8753847306127520472_n.jpg?_nc_ht=scontent-ssn1-1.cdninstagram.com&_nc_cat=109&_nc_ohc=3yNLCGT8ET8AX-7JmFb&oh=9a41666da2ee08c92df3ec477f5d3588&oe=5F3D811D', 'date': '2020년 7월 20일', 'like': '좋아요 10개', 'tag': ' 일상 데일리 핸드크림추천 고급짐 오센트 오센트핸드케어 오센트핸드크림 오센트방향제 onscent 선물 선물추천 오센트차량용방향제 차량용방향제 차량용디퓨저 일상 데일리 후기'}, 13: {'picture': 'https://scontent-ssn1-1.cdninstagram.com/v/t51.2885-15/e35/109343090_166927544962395_5069675927873716935_n.jpg?_nc_ht=scontent-ssn1-1.cdninstagram.com&_nc_cat=103&_nc_ohc=6FyVN_lQVwQAX-ff6El&oh=e8205dce6f19f1f5bbd04a8ea3de0004&oe=5F407BDE', 'date': '2020년 7월 20일', 'like': '좋아요 15개', 'tag': ' 석고방향제 차량용석고방향제 까멜리아석고방향제 김해데이트 김해커플체험 플라워 김해향수공방 좋아요반사 김해캔들 소품 좋아요 소통해요 셀프인테리어 김해공방 창원캔들 인테리어소품 김해캔들공방 장유캔들 차량용방향제 부산석고방향제 마산석고방향제 창원석고방향제 김해석고방향제 장유캔들공방 장유석고방향제 김해원데이클래스 김해취미생활 일상 소통 daily'}, 14: {'picture': 'https://scontent-ssn1-1.cdninstagram.com/v/t51.2885-15/e35/109969951_2740518126225271_7200806378065514969_n.jpg?_nc_ht=scontent-ssn1-1.cdninstagram.com&_nc_cat=107&_nc_ohc=i3N0YI7rfWAAX_jNXJW&oh=4049ae9068d22feeb9eef304f1255a51&oe=5F3E13A5', 'date': '2020년 7월 20일', 'like': '좋아요 157개', 'tag': ' 라니스후기'}, 15: {'picture': 'https://scontent-ssn1-1.cdninstagram.com/v/t51.2885-15/e35/111072483_157759615886845_5095543879849258276_n.jpg?_nc_ht=scontent-ssn1-1.cdninstagram.com&_nc_cat=101&_nc_ohc=r8rVnt7-HFgAX8hawzZ&oh=0adb6be26e6892fc4289dacc89435c52&oe=5F3D4940', 'date': '2020년 7월 20일', 'like': '좋아요 26개', 'tag': ' 포얼디 석고방향제'}, 16: {'picture': 'https://scontent-ssn1-1.cdninstagram.com/v/t51.2885-15/e35/s1080x1080/109751624_303419887470598_2875726334592379370_n.jpg?_nc_ht=scontent-ssn1-1.cdninstagram.com&_nc_cat=110&_nc_ohc=5ddorVqV9_wAX8oubZA&oh=47d8d93a12e112148013e9f5c1148b6b&oe=5F409A4D', 'date': '2020년 7월 20일', 'like': '좋아요 18개', 'tag': ''}, 17: {'picture': 'https://scontent-ssn1-1.cdninstagram.com/v/t51.2885-15/e35/109427651_150850823276374_8009227703751999311_n.jpg?_nc_ht=scontent-ssn1-1.cdninstagram.com&_nc_cat=110&_nc_ohc=cvpSTkYTKQwAX9BHIxU&oh=6e805dfc945873b779d6e3a44b5bd2ac&oe=5F3D5ABF', 'date': '2020년 7월 20일', 'like': '좋아요 34개', 'tag': ''}, 18: {'picture': 'https://scontent-ssn1-1.cdninstagram.com/v/t51.2885-15/e35/109593324_732148824011354_3731088377317902718_n.jpg?_nc_ht=scontent-ssn1-1.cdninstagram.com&_nc_cat=102&_nc_ohc=11kiJeiGKN0AX-bQrHM&oh=6596d6c6d435fc82c1a6704d07217aa4&oe=5F3E8BE7', 'date': '2020년 7월 20일', 'like': '좋아요 35개', 'tag': ' 아로마푸딩 부모님선물 남편선물 선물 차량용방향제 차량용액자 차량용액자방향제'}, 19: {'picture': 'https://scontent-ssn1-1.cdninstagram.com/v/t51.2885-15/e35/110031145_936915176721491_2090673130064247534_n.jpg?_nc_ht=scontent-ssn1-1.cdninstagram.com&_nc_cat=111&_nc_ohc=3gLpAuvGag0AX91FFmJ&oh=c4db23e793e622f77cd5e721997146d4&oe=5F3ED6DB', 'date': '2020년 7월 20일', 'like': '좋아요 4개', 'tag': ' 7'}, 20: {'picture': 'https://scontent-ssn1-1.cdninstagram.com/v/t51.2885-15/e35/s1080x1080/109793990_951575031972319_1996279128118424349_n.jpg?_nc_ht=scontent-ssn1-1.cdninstagram.com&_nc_cat=107&_nc_ohc=D-oVm5t705cAX_1nnGh&oh=7f3179db30137853ab4a3f940c93a609&oe=5F406C0B', 'date': '2020년 7월 20일', 'like': '좋아요 59개', 'tag': ''}, 22: {'picture': 'https://scontent-ssn1-1.cdninstagram.com/v/t51.2885-15/e35/p1080x1080/114859916_626117714951291_2814335944010512229_n.jpg?_nc_ht=scontent-ssn1-1.cdninstagram.com&_nc_cat=111&_nc_ohc=UwHeKW9oTmEAX8Tm4q1&oh=406190b8832051156ed0077e4ef04356&oe=5F3D3618', 'date': '2020년 7월 20일', 'like': '좋아요 26개', 'tag': ' lightright candle 오팔린화병'}, 23: {'picture': 'https://scontent-ssn1-1.cdninstagram.com/v/t51.2885-15/e35/111407563_963283077429184_5265451905962842730_n.jpg?_nc_ht=scontent-ssn1-1.cdninstagram.com&_nc_cat=104&_nc_ohc=UEWcKfVDMZIAX9vlKCi&oh=2fc0117ed60cbde4ed9c6aff7572c40e&oe=5F3DB9F4', 'date': '2020년 7월 20일', 'like': '좋아요 84개', 'tag': ' 차량용디퓨저 차량포토방향제 차량용사진방향제 차량용방향제 메탈차량용방향제 차량용액자 차량선물추천 맞춤형선물 주문제작방향제 베오몰 알센트포토 체험단모집 체험이벤트 이벤트'}, 24: {'picture': 'https://scontent-ssn1-1.cdninstagram.com/v/t51.2885-15/e35/p1080x1080/113114883_324057382317113_549744586943487751_n.jpg?_nc_ht=scontent-ssn1-1.cdninstagram.com&_nc_cat=105&_nc_ohc=IRLQo7tf258AX-PVXU2&oh=a560904568a214d8044e6e559fc0cb57&oe=5F3FFCCF', 'date': '2020년 7월 20일', 'like': '좋아요 9개', 'tag': ' 탄생석비누 CP비누 숙성비누 감천문화마을체험관 캔들자격증수강생모집 비누꽃미니화환 꽃바구니 어버이날선물 기념일선물 결혼선물 결혼답례품 돌답례품 핸드메이드 소이캔들 젤캔들체험 디저트캔들체험 석고방향제 빈티지아트석고방향제수강생모집 몰드원데이수업수강생모집 명품향수체험 차량용방향제 도우아트원데이수업자격증모집 규조토파우더아트케어자격증반모집 제습탈취 부산 감천문화마을 원데이클래스 부산원데이클래스'}, 25: {'picture': 'https://scontent-ssn1-1.cdninstagram.com/v/t51.2885-15/e35/s1080x1080/109704730_717159395790916_3743874560381144697_n.jpg?_nc_ht=scontent-ssn1-1.cdninstagram.com&_nc_cat=104&_nc_ohc=iJ7k4EwH8toAX-lIZ_N&oh=6bbb3814a305162c8640fa9e7a190af8&oe=5F3D003C', 'date': '2020년 7월 20일', 'like': '좋아요 8개', 'tag': ' 슬기 석고방향제 차량용방향제 차량용석고방향제 부산소품샵 부산석고방향제 양산석고방향제 양산공방 새차선물 신상 신상업뎃 답례품 소량답례품 육퇴 돌답례품 얼집선물 퇴사선물 자동차용품 여친선물 세서미스트리트 세사미 엘모 쿠키몬스터 캐릭터소품'}, 26: {'picture': 'https://scontent-ssn1-1.cdninstagram.com/v/t51.2885-15/e35/109357692_583435689004820_8938360201694007630_n.jpg?_nc_ht=scontent-ssn1-1.cdninstagram.com&_nc_cat=108&_nc_ohc=isePoYO1g9UAX-FU6-Y&oh=c2e6dd1b68e600982a3cae51562fc58d&oe=5F3CD89F', 'date': '2020년 7월 20일', 'like': '좋아요 21개', 'tag': ''}, 27: {'picture': 'https://scontent-ssn1-1.cdninstagram.com/v/t51.2885-15/e35/s1080x1080/109145586_157386479200998_5424531987348819262_n.jpg?_nc_ht=scontent-ssn1-1.cdninstagram.com&_nc_cat=106&_nc_ohc=9OVm1OQS1AYAX_E3-W5&oh=19dd92e5e942f84f618ffa3a751fcd69&oe=5F3D79DE', 'date': '2020년 7월 20일', 'like': '좋아요 16개', 'tag': ' 방 차량방향제 차량용석고방향제'}, 28: {'picture': 'https://scontent-ssn1-1.cdninstagram.com/v/t51.2885-15/e35/s1080x1080/109895728_116387216607738_8047415473293513652_n.jpg?_nc_ht=scontent-ssn1-1.cdninstagram.com&_nc_cat=106&_nc_ohc=ijrWcc5t_VUAX-YNnGH&oh=a0cb413829fbd9284a2fe642131becdd&oe=5F3EA9E0', 'date': '2020년 7월 20일', 'like': '좋아요 27개', 'tag': ''}, 29: {'picture': 'https://scontent-ssn1-1.cdninstagram.com/v/t51.2885-15/e35/s1080x1080/112857592_1221502228196477_8997812612271454755_n.jpg?_nc_ht=scontent-ssn1-1.cdninstagram.com&_nc_cat=105&_nc_ohc=agxu0uNtrzYAX9EOP5w&oh=980a7850463ebf42072f67bca5c741c5&oe=5F3F99A7', 'date': '2020년 7월 20일', 'like': '좋아요 15개', 'tag': ' 별센트 byeolscent 플라워디퓨저 별내방향제'}, 30: {'picture': 'https://scontent-ssn1-1.cdninstagram.com/v/t51.2885-15/e35/s1080x1080/111119624_586270505369635_1462836437351812174_n.jpg?_nc_ht=scontent-ssn1-1.cdninstagram.com&_nc_cat=107&_nc_ohc=fa3R1ndmKJ4AX87O_QJ&oh=1c6482c37677ca1568614db6a93ddd3e&oe=5F3E5B45', 'date': '2020년 7월 20일', 'like': '좋아요 45개', 'tag': ' 베어리스타석고방향제 스타벅스 스타벅스석고방향제 스타벅스방향제 starbucks 스타벅스이니셜 석고방향제 차량용방향제 이니셜석고방향제 파트너선물 남친선물 여친선물 생일선물 인테리어소품 콩고야 핸드메이드 소통 일상 데일리 예쁜방향제 베어리스타방향제 스타벅스닉네임 스타벅스로고 리저브 스타벅스리저브 스타벅스주차번호판 리저브석고방향제 리저브방향제'}, 31: {'picture': 'https://scontent-ssn1-1.cdninstagram.com/v/t51.2885-15/e35/p1080x1080/114596852_2626449267605039_5126554624892153459_n.jpg?_nc_ht=scontent-ssn1-1.cdninstagram.com&_nc_cat=111&_nc_ohc=fCl1ssY8jZIAX_GXRi-&oh=2105037f858244bd63f3052fb84e811f&oe=5F3CDDDD', 'date': '2020년 7월 20일', 'like': '좋아요 12개', 'tag': ' 오센트 ohscent 차량용방향제 차량용디퓨저'}, 32: {'picture': 'https://scontent-ssn1-1.cdninstagram.com/v/t51.2885-15/e35/109494993_2431761140457049_7895001814706176197_n.jpg?_nc_ht=scontent-ssn1-1.cdninstagram.com&_nc_cat=101&_nc_ohc=QJ7ie-6KlZoAX-zfmPk&oh=34e884ac41604cec49109efef83c639b&oe=5F3D77DE', 'date': '2020년 7월 20일', 'like': '좋아요 16개', 'tag': ' 토이스토리 우디 버즈 석고방향제 차량용방향제 냉장고자석 꽃방향제 소이캔들 추억 캔들체험 연희동 연희동커플데이트 원데이클래스 키즈원데이클래스 천연입욕제 연희동공방 연희동캔들 연희동입욕제 연희동캔들공방 연희동석고방향제 디퓨져 향수 연희동답례품 레이지나인 도드로드'}, 33: {'picture': 'https://scontent-ssn1-1.cdninstagram.com/v/t51.2885-15/e35/s1080x1080/109268521_218705139322090_2417072961634188595_n.jpg?_nc_ht=scontent-ssn1-1.cdninstagram.com&_nc_cat=110&_nc_ohc=q6kUiMg-FZMAX_LWOM_&oh=9cc404b9d36352df57c04818845c3da7&oe=5F3F6045', 'date': '2020년 7월 20일', 'like': '좋아요 29개', 'tag': ' 협찬 sponsored 블랙팟 블랙팟퍼펙트퍼퓸스틱 퍼퓸스틱 차량용방향제 차량용방향제추천 방향저 차량방향제 차량용스틱방향제 차량용품 카테리어 차스타그램 방향제 차량용디퓨저'}, 34: {'picture': 'https://scontent-ssn1-1.cdninstagram.com/v/t51.2885-15/e35/s1080x1080/115823664_231030114563483_759103674198679934_n.jpg?_nc_ht=scontent-ssn1-1.cdninstagram.com&_nc_cat=111&_nc_ohc=xDtDe6VbLpkAX_bl0kI&oh=4e90ba3ece5b04a61fd0510badf32893&oe=5F4003A7', 'date': '2020년 7월 20일', 'like': '좋아요 27개', 'tag': ' 플라워디퓨저 플라워디퓨저 디퓨저 차량용디퓨저 차량용방향제 방향제 미니방향제 미니디퓨저 부담없는선물 선물 라이크초'}, 35: {'picture': 'https://scontent-ssn1-1.cdninstagram.com/v/t51.2885-15/e35/s1080x1080/109780284_313264409806827_5594761578498972975_n.jpg?_nc_ht=scontent-ssn1-1.cdninstagram.com&_nc_cat=103&_nc_ohc=phMRLi8Z1x4AX_w-fZf&oh=d7059fca68f3d013e209ac05a572e1e1&oe=5F3F6E93', 'date': '2020년 7월 20일', 'like': '좋아요 48개', 'tag': ' 석고방향제 차량용방향제 수제몰드 실리콘몰드 빈스퍼퓸 봄쓰몰 차량용석고방향제 캐릭터석고방향제 주차번호판석고방향제 차량용주차번호판 차량용인테리어소품 경산석고방향제 대구석고방향제 선물 선물스타그램 여친선물추천 좋아요'}, 36: {'picture': 'https://scontent-ssn1-1.cdninstagram.com/v/t51.2885-15/e35/109402669_748514645882793_7134870901860697597_n.jpg?_nc_ht=scontent-ssn1-1.cdninstagram.com&_nc_cat=109&_nc_ohc=FM8ww72y4DQAX-JleVc&oh=79d873c78a016ba65485545122220276&oe=5F3EA63B', 'date': '2020년 7월 20일', 'like': '좋아요 5개', 'tag': ' 선샤인캔들 실속답례품 스마일석고방향제 차량용방향제 반영구방향제 주문제작 수제방향제 소량답례품 최소30개 향기로운선물 단체선물 홍보품 판촉물 오픈선물 석고방향제 석고타블렛 개업선물 퇴사선물 핸드메이드 handmade 무료선물포장 5ml무료증정오일 주문만하세요'}, 37: {'picture': 'https://scontent-ssn1-1.cdninstagram.com/v/t51.2885-15/e35/s1080x1080/109715829_610434153203089_2169095003049381174_n.jpg?_nc_ht=scontent-ssn1-1.cdninstagram.com&_nc_cat=101&_nc_ohc=1PojMS520PEAX-Ctz34&oh=59acf5f63effcafcec69de265a9e0ae9&oe=5F3D0AB9', 'date': '2020년 7월 20일', 'like': '좋아요 23개', 'tag': ''}, 38: {'picture': 'https://scontent-ssn1-1.cdninstagram.com/v/t51.2885-15/e35/109253297_1528982007280842_6517499995034390842_n.jpg?_nc_ht=scontent-ssn1-1.cdninstagram.com&_nc_cat=106&_nc_ohc=CIOVyvvYtwoAX_mh5VC&oh=30cb2a3a64b26aad46f3193849b3015a&oe=5F3D329E', 'date': '2020년 7월 20일', 'like': '좋아요 32개', 'tag': ' 샤넬석고방향제 부산러블리캔들 정관러블리캔들 러블리캔들 차량용방향제 차량용석고방향제 차량용송풍구방향제 예쁜석고방향제 석고방향제맛집 석고방향제'}, 39: {'picture': 'https://scontent-ssn1-1.cdninstagram.com/v/t51.2885-15/e35/109256492_2918754168230075_5754007617803675160_n.jpg?_nc_ht=scontent-ssn1-1.cdninstagram.com&_nc_cat=111&_nc_ohc=m_xkQXfyw6wAX-J-Ws2&oh=950c22608d456f9c8624750f92b3b4a4&oe=5F40797A', 'date': '2020년 7월 20일', 'like': '좋아요 41개', 'tag': ' 수박페도라 데코모자 맛집 수박 석고방향제 석고오너먼트 차량용방향제 차량용석고방향제 답례품추천 취미그램'}, 40: {'picture': 'https://scontent-ssn1-1.cdninstagram.com/v/t51.2885-15/e35/109282686_1321570208013348_8303454299929317632_n.jpg?_nc_ht=scontent-ssn1-1.cdninstagram.com&_nc_cat=100&_nc_ohc=324iyDPQCRQAX-vL8sn&oh=26dd866d151b8c0f44b71b08bf5cec26&oe=5F3DED93', 'date': '2020년 7월 20일', 'like': '좋아요 52개', 'tag': ' ADOR 어도르 월요팅'}, 41: {'picture': 'https://scontent-ssn1-1.cdninstagram.com/v/t51.2885-15/fr/e15/s1080x1080/110170191_113519036945005_1766664719558065801_n.jpg?_nc_ht=scontent-ssn1-1.cdninstagram.com&_nc_cat=101&_nc_ohc=rwjoVYGZ9lMAX8ioS1l&oh=a83016d28fe9dd6c2d479d1dbea0e368&oe=5F3FA575', 'date': '2020년 7월 20일', 'like': '좋아요 3개', 'tag': ' 여름 할인 할인이벤트 세일 에어팟케이스 귀여운에어팟케이스 에어팟키링 디퓨저 차량용디퓨저 디퓨저오일 방향제 차량용방향제'}, 42: {'picture': 'https://scontent-ssn1-1.cdninstagram.com/v/t51.2885-15/e35/s1080x1080/109583335_201746741281565_7314445176744564145_n.jpg?_nc_ht=scontent-ssn1-1.cdninstagram.com&_nc_cat=105&_nc_ohc=_YTpjTPXHvIAX8dt0rC&oh=1b8839cb6c73d9951695a0bf6204ad55&oe=5F3F43B2', 'date': '2020년 7월 20일', 'like': '좋아요 16개', 'tag': ''}, 43: {'picture': 'https://scontent-ssn1-1.cdninstagram.com/v/t51.2885-15/e35/s1080x1080/109114465_726090861560029_8654674744842431957_n.jpg?_nc_ht=scontent-ssn1-1.cdninstagram.com&_nc_cat=101&_nc_ohc=pP_GZtqO2CUAX-hutG6&oh=149bcef91fb8e2f74ad1d2e975253016&oe=5F40A753', 'date': '2020년 7월 20일', 'like': '좋아요 58개', 'tag': ' ootd'}, 44: {'picture': 'https://scontent-ssn1-1.cdninstagram.com/v/t51.2885-15/e35/p1080x1080/109715070_284463016212334_3120718449978688233_n.jpg?_nc_ht=scontent-ssn1-1.cdninstagram.com&_nc_cat=110&_nc_ohc=lReGjuZif9cAX9rtCkO&oh=25ccd6ba3bf4f24d1ddcce5c48a98a5b&oe=5F3EF73B', 'date': '2020년 7월 20일', 'like': '좋아요 4개', 'tag': ' 석고방향제 오랜만에 작업 대충찍어도 예쁨주의 스머프 짱구 스누피 캐릭터석고방향제 기념품 차량용방향제'}, 45: {'picture': 'https://scontent-ssn1-1.cdninstagram.com/v/t51.2885-15/e35/s1080x1080/110266579_288221512592885_6605463230144902741_n.jpg?_nc_ht=scontent-ssn1-1.cdninstagram.com&_nc_cat=105&_nc_ohc=ai2jxIlPxGIAX-rrXye&oh=d2d8c7ea4ff5078a4436a39df8641435&oe=5F4016E7', 'date': '2020년 7월 20일', 'like': '좋아요 36개', 'tag': ' 만지작석고방향제 만지작오너먼트 만지작방향제 차량용석고방향제 차량용방향제 송풍구방향제 돌답례품 개업답례품 기업답례품 웨딩답례품'}, 46: {'picture': 'https://scontent-ssn1-1.cdninstagram.com/v/t51.2885-15/fr/e15/s1080x1080/110537409_313435353179889_4509874552988502615_n.jpg?_nc_ht=scontent-ssn1-1.cdninstagram.com&_nc_cat=109&_nc_ohc=TANA1zpYhJoAX9jmwja&oh=01e31f2efd2dd41732400c7791e8a44b&oe=5F404E06', 'date': '2020년 7월 20일', 'like': '좋아요 15개', 'tag': ' 에이디스 차량용방향제 차량용디퓨저 천연디퓨저'}, 47: {'picture': 'https://scontent-ssn1-1.cdninstagram.com/v/t51.2885-15/e35/s1080x1080/108131329_126643935767111_6552092236879779478_n.jpg?_nc_ht=scontent-ssn1-1.cdninstagram.com&_nc_cat=111&_nc_ohc=VFJVxFGtwTMAX8lvLZs&oh=e7f2eb6da4495843fced7253546612f7&oe=5F3F4312', 'date': '2020년 7월 20일', 'like': '좋아요 18개', 'tag': ' 석고방향제 차량용방향제 포토석고방향제 포토석고 포토플라스터 한국석고공예협회 석고공예전문지도사 차량용석고방향제'}, 48: {'picture': 'https://scontent-ssn1-1.cdninstagram.com/v/t51.2885-15/e35/s1080x1080/109755158_299478991406855_4975125990171408543_n.jpg?_nc_ht=scontent-ssn1-1.cdninstagram.com&_nc_cat=111&_nc_ohc=64ADs4yWu-8AX-AoioX&oh=fa234e334cc9e0ddba46dfb4f1c58804&oe=5F3E0B69', 'date': '2020년 7월 20일', 'like': '좋아요 9개', 'tag': ' 꽃내음방향제 석고방향제 차량용방향제 하트방향제 차량인테리어 핸드메이드 예뻐서난리 단골고객 차량소품 인기제품 문의환영 주문가능'}, 49: {'picture': 'https://scontent-ssn1-1.cdninstagram.com/v/t51.2885-15/e35/p1080x1080/110310269_229418478087135_7116308336617244210_n.jpg?_nc_ht=scontent-ssn1-1.cdninstagram.com&_nc_cat=103&_nc_ohc=oUrBGII7Z58AX-x0gKN&oh=df4a2fa143df2213d45ebc046cbbd8ef&oe=5F3F9A66', 'date': '2020년 7월 20일', 'like': '좋아요 31개', 'tag': ' 아메 똑닮았네 귀여워귀여워 차량용방향제 강아지방향제'}}\n"
     ]
    }
   ],
   "source": [
    "for keyword in keywords:\n",
    "    dict = {}                                                       # 전체 데이터를 담을 딕셔너리 생성\n",
    "    # 사진 클릭\n",
    "    CSS_tran=\"div.Nnq7C.weEfm\"      # 사진 버튼 정의 (\"div.Nnq7C.weEfm\")   # (인스타 첫번째 줄 글의 주소값)\n",
    "    tran_button = driver.find_element_by_css_selector(CSS_tran)     # 사진 버튼 찾기 (주소값을 찾아서저장)\n",
    "    AC(driver).move_to_element(tran_button).click().perform()       # 사진 버튼 클릭 (주소를 찾아서 이동)\n",
    "    time.sleep(1)\n",
    "\n",
    "    # 크롤링 시작\n",
    "    len_insta = 50   # 몇 개 글을 크롤링 할건지 3000개가 최대 \n",
    "\n",
    "    for i in tqdm(range(0, len_insta)):    # range : 숫자가 1씩하는 함수\n",
    "\n",
    "        target_info = {}                                            # 사진별 데이터를 담을 딕셔너리 생성\n",
    "\n",
    "        try:    # 크롤링을 시도해라. #try = 예외처리\n",
    "            # 사진(pic) 크롤링 시작\n",
    "            overlays1 = \"div._2dDPU.CkGkG .FFVAD\"                   # 사진창 속 사진   \n",
    "            img = driver.find_element_by_css_selector(overlays1)    # 사진 선택\n",
    "            pic = img.get_attribute('src')                          # 사진 url 크롤링 완료\n",
    "            target_info['picture'] = pic\n",
    "            # print(target_info)\n",
    "\n",
    "            # 날짜(date) 크롤링 시작\n",
    "            overlays2 = \"div._2dDPU.CkGkG .c-Yi7 > time\"                  # 날짜 지정\n",
    "            datum2 = driver.find_element_by_css_selector(overlays2)     # 날짜 선택\n",
    "            date = datum2.get_attribute('title')\n",
    "    #         get_attribute('title')                                    # 날짜 크롤링 완료\n",
    "            target_info['date'] = date\n",
    "            # print(target_info)\n",
    "            # print(datalist)\n",
    "\n",
    "            # 좋아요(like) 크롤링 시작\n",
    "            overlays3 = \".Nm9Fw\"                                        # 리뷰창 속 날짜\n",
    "            datum3 = driver.find_element_by_css_selector(overlays3)     # 리뷰 선택\n",
    "            like = datum3.text                                          # 좋아요 크롤링 완료\n",
    "            target_info['like'] = like\n",
    "            # print(target_info)\n",
    "\n",
    "            # 해시태그(tag) 크롤링 시작\n",
    "            overlays4 = \".C7I1f.X7jCj\"                                  # 태그 지정\n",
    "            datum3 = driver.find_element_by_css_selector(overlays4)     # 태그 선택\n",
    "            tag_raw = datum3.text\n",
    "            tags = re.findall('#[A-Za-z0-9가-힣]+', tag_raw)            # \"\"#OOO\"만 뽑아오기(OOO: 한글,숫자,영어,_)\n",
    "            tag = ''.join(tags).replace(\"#\",\" \")                        # \"#\" 제거\n",
    "            target_info['tag'] = tag\n",
    "            # print(target_info)\n",
    "\n",
    "            dict[i] = target_info            # 토탈 딕셔너리로 만들기\n",
    "\n",
    "            print(\"{0}\".format(i), tag)\n",
    "\n",
    "            # 다음장 클릭\n",
    "            hit=0\n",
    "            while hit < 1:                          # 몇 번에 한번씩 크롤링할 것인지 숫자 지정\n",
    "                hit+=1\n",
    "                CSS_tran2=\"a._65Bje.coreSpriteRightPaginationArrow\"             # 다음 버튼 정의\n",
    "                tran_button2 = driver.find_element_by_css_selector(CSS_tran2)  # 다음 버튼 find\n",
    "                AC(driver).move_to_element(tran_button2).click().perform()     # 다음 버튼 클릭\n",
    "                time.sleep(2)\n",
    "\n",
    "        except:  # 에러가 나면 다음장을 클릭해라\n",
    "            # 다음장 클릭\n",
    "            CSS_tran2=\"a._65Bje.coreSpriteRightPaginationArrow\"             # 다음 버튼 정의\n",
    "            tran_button2 = driver.find_element_by_css_selector(CSS_tran2)  # 다음 버튼 find\n",
    "            AC(driver).move_to_element(tran_button2).click().perform()     # 다음 버튼 클릭\n",
    "            time.sleep(2)\n",
    "\n",
    "    print(dict)\n",
    "\n",
    "    # 판다스로 만들기 : 엑셀(테이블) 형식으로 만들기\n",
    "    import pandas as pd\n",
    "    result_df = pd.DataFrame.from_dict(dict, 'index')\n",
    "\n",
    "    n = result_df['picture'].count()\n",
    "\n",
    "    # csv 형식(엑셀이랑 비슷한 파일)으로 저장\n",
    "    result_df.to_csv(\"data/perfume({}).csv\".format(keyword), encoding='euc-kr')"
   ]
  },
  {
   "cell_type": "code",
   "execution_count": 57,
   "metadata": {},
   "outputs": [
    {
     "data": {
      "text/plain": [
       "'C:\\\\Users\\\\USER\\\\Desktop\\\\Python_Basic'"
      ]
     },
     "execution_count": 57,
     "metadata": {},
     "output_type": "execute_result"
    }
   ],
   "source": [
    "pwd"
   ]
  },
  {
   "cell_type": "code",
   "execution_count": 58,
   "metadata": {},
   "outputs": [
    {
     "data": {
      "text/plain": [
       "49"
      ]
     },
     "execution_count": 58,
     "metadata": {},
     "output_type": "execute_result"
    }
   ],
   "source": [
    "num_pic = len(result_df['picture'])\n",
    "num_pic"
   ]
  },
  {
   "cell_type": "code",
   "execution_count": 59,
   "metadata": {},
   "outputs": [],
   "source": [
    "# 이미지들 image 폴더에 다운받기\n",
    "import urllib.request\n",
    "\n",
    "for i in range(0, 50):\n",
    "    try:\n",
    "        index=result_df['picture'][i]\n",
    "        urllib.request.urlretrieve(index, \"image/perfume{0}_{1}.jpg\".format(date, i))        \n",
    "    except:\n",
    "        pass"
   ]
  },
  {
   "cell_type": "markdown",
   "metadata": {},
   "source": [
    "끝"
   ]
  }
 ],
 "metadata": {
  "kernelspec": {
   "display_name": "Python 3",
   "language": "python",
   "name": "python3"
  },
  "language_info": {
   "codemirror_mode": {
    "name": "ipython",
    "version": 3
   },
   "file_extension": ".py",
   "mimetype": "text/x-python",
   "name": "python",
   "nbconvert_exporter": "python",
   "pygments_lexer": "ipython3",
   "version": "3.7.6"
  }
 },
 "nbformat": 4,
 "nbformat_minor": 2
}
