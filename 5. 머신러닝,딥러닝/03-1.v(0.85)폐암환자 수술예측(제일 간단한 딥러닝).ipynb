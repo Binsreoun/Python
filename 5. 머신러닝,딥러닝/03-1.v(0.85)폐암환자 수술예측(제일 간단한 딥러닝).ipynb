{
 "cells": [
  {
   "cell_type": "code",
   "execution_count": 6,
   "metadata": {},
   "outputs": [],
   "source": [
    "# 딥러닝으로 폐암 수술 환자의 생존율 예측하기\n",
    "from keras.models import Sequential\n",
    "from keras.layers import Dense\n",
    "import numpy\n",
    "import tensorflow as tf"
   ]
  },
  {
   "cell_type": "code",
   "execution_count": 7,
   "metadata": {},
   "outputs": [],
   "source": [
    "# 실행할 때마다 같은 결과를 출력하기 위해 설정하는 부분\n",
    "seed = 0\n",
    "numpy.random.seed(seed)\n",
    "tf.random.set_seed(seed)"
   ]
  },
  {
   "cell_type": "code",
   "execution_count": 8,
   "metadata": {},
   "outputs": [],
   "source": [
    "## ★단계1. 데이터 셋 생성(train, validation, test set 나누기) # 470명 환자의 기록과 수술 결과를 X와 Y로 구분하여 저장\n",
    "Data_set = numpy.loadtxt(\"./data/ThoraricSurgery.csv\", delimiter=\",\")\n",
    "X = Data_set[:,0:17] # 수술기록\n",
    "Y = Data_set[:,17]   # 수술결과"
   ]
  },
  {
   "cell_type": "code",
   "execution_count": 9,
   "metadata": {},
   "outputs": [],
   "source": [
    "## ★단계2. 딥러닝 구조&모델 구성(sequential, layer, activation function)\n",
    "model = Sequential()\n",
    "model.add(Dense(30, input_dim=17, activation='relu'))\n",
    "model.add(Dense(1, activation='sigmoid'))"
   ]
  },
  {
   "cell_type": "code",
   "execution_count": 10,
   "metadata": {},
   "outputs": [],
   "source": [
    "## ★단계3. 학습과정 설정(loss function, optimizer 지정)\n",
    "model.compile(loss='mean_squared_error', optimizer='adam', metrics=['accuracy'])"
   ]
  },
  {
   "cell_type": "code",
   "execution_count": 11,
   "metadata": {},
   "outputs": [
    {
     "name": "stdout",
     "output_type": "stream",
     "text": [
      "Epoch 1/30\n",
      "47/47 [==============================] - 0s 466us/step - loss: 0.4080 - accuracy: 0.5702\n",
      "Epoch 2/30\n",
      "47/47 [==============================] - 0s 382us/step - loss: 0.1488 - accuracy: 0.8511\n",
      "Epoch 3/30\n",
      "47/47 [==============================] - 0s 361us/step - loss: 0.1488 - accuracy: 0.8511\n",
      "Epoch 4/30\n",
      "47/47 [==============================] - 0s 403us/step - loss: 0.1488 - accuracy: 0.8511\n",
      "Epoch 5/30\n",
      "47/47 [==============================] - 0s 403us/step - loss: 0.1488 - accuracy: 0.8511\n",
      "Epoch 6/30\n",
      "47/47 [==============================] - 0s 403us/step - loss: 0.1487 - accuracy: 0.8511\n",
      "Epoch 7/30\n",
      "47/47 [==============================] - 0s 424us/step - loss: 0.1487 - accuracy: 0.8511\n",
      "Epoch 8/30\n",
      "47/47 [==============================] - 0s 403us/step - loss: 0.1485 - accuracy: 0.8511\n",
      "Epoch 9/30\n",
      "47/47 [==============================] - 0s 424us/step - loss: 0.1482 - accuracy: 0.8511\n",
      "Epoch 10/30\n",
      "47/47 [==============================] - 0s 509us/step - loss: 0.1471 - accuracy: 0.8511\n",
      "Epoch 11/30\n",
      "47/47 [==============================] - 0s 424us/step - loss: 0.1481 - accuracy: 0.8511\n",
      "Epoch 12/30\n",
      "47/47 [==============================] - 0s 403us/step - loss: 0.1471 - accuracy: 0.8511\n",
      "Epoch 13/30\n",
      "47/47 [==============================] - 0s 424us/step - loss: 0.1473 - accuracy: 0.8511\n",
      "Epoch 14/30\n",
      "47/47 [==============================] - 0s 382us/step - loss: 0.1464 - accuracy: 0.8489\n",
      "Epoch 15/30\n",
      "47/47 [==============================] - 0s 403us/step - loss: 0.1456 - accuracy: 0.8511\n",
      "Epoch 16/30\n",
      "47/47 [==============================] - 0s 382us/step - loss: 0.1470 - accuracy: 0.8489\n",
      "Epoch 17/30\n",
      "47/47 [==============================] - 0s 425us/step - loss: 0.1457 - accuracy: 0.8532\n",
      "Epoch 18/30\n",
      "47/47 [==============================] - 0s 403us/step - loss: 0.1449 - accuracy: 0.8511\n",
      "Epoch 19/30\n",
      "47/47 [==============================] - 0s 382us/step - loss: 0.1460 - accuracy: 0.8489\n",
      "Epoch 20/30\n",
      "47/47 [==============================] - 0s 382us/step - loss: 0.1452 - accuracy: 0.8511\n",
      "Epoch 21/30\n",
      "47/47 [==============================] - 0s 424us/step - loss: 0.1443 - accuracy: 0.8532\n",
      "Epoch 22/30\n",
      "47/47 [==============================] - 0s 403us/step - loss: 0.1440 - accuracy: 0.8532\n",
      "Epoch 23/30\n",
      "47/47 [==============================] - 0s 403us/step - loss: 0.1454 - accuracy: 0.8532\n",
      "Epoch 24/30\n",
      "47/47 [==============================] - 0s 424us/step - loss: 0.1455 - accuracy: 0.8511\n",
      "Epoch 25/30\n",
      "47/47 [==============================] - 0s 424us/step - loss: 0.1425 - accuracy: 0.8489\n",
      "Epoch 26/30\n",
      "47/47 [==============================] - 0s 340us/step - loss: 0.1452 - accuracy: 0.8532\n",
      "Epoch 27/30\n",
      "47/47 [==============================] - 0s 361us/step - loss: 0.1441 - accuracy: 0.8553\n",
      "Epoch 28/30\n",
      "47/47 [==============================] - 0s 382us/step - loss: 0.1429 - accuracy: 0.8553\n",
      "Epoch 29/30\n",
      "47/47 [==============================] - 0s 340us/step - loss: 0.1395 - accuracy: 0.8553\n",
      "Epoch 30/30\n",
      "47/47 [==============================] - 0s 340us/step - loss: 0.1429 - accuracy: 0.8532\n"
     ]
    },
    {
     "data": {
      "text/plain": [
       "<tensorflow.python.keras.callbacks.History at 0x2186daa6d00>"
      ]
     },
     "execution_count": 11,
     "metadata": {},
     "output_type": "execute_result"
    }
   ],
   "source": [
    "## ★단계4. 학습시키기(train set을 fit()하기)\n",
    "model.fit(X, Y, epochs=30, batch_size=10)"
   ]
  },
  {
   "cell_type": "code",
   "execution_count": 12,
   "metadata": {},
   "outputs": [
    {
     "name": "stdout",
     "output_type": "stream",
     "text": [
      "15/15 [==============================] - 0s 531us/step - loss: 0.1438 - accuracy: 0.8511\n",
      "\n",
      " Accuracy: 0.8511\n"
     ]
    }
   ],
   "source": [
    "# 결과 출력\n",
    "print(\"\\n Accuracy: %.4f\" % (model.evaluate(X, Y)[1]))"
   ]
  },
  {
   "cell_type": "code",
   "execution_count": null,
   "metadata": {},
   "outputs": [],
   "source": []
  }
 ],
 "metadata": {
  "kernelspec": {
   "display_name": "Python 3",
   "language": "python",
   "name": "python3"
  },
  "language_info": {
   "codemirror_mode": {
    "name": "ipython",
    "version": 3
   },
   "file_extension": ".py",
   "mimetype": "text/x-python",
   "name": "python",
   "nbconvert_exporter": "python",
   "pygments_lexer": "ipython3",
   "version": "3.8.3"
  },
  "varInspector": {
   "cols": {
    "lenName": 16,
    "lenType": 16,
    "lenVar": 40
   },
   "kernels_config": {
    "python": {
     "delete_cmd_postfix": "",
     "delete_cmd_prefix": "del ",
     "library": "var_list.py",
     "varRefreshCmd": "print(var_dic_list())"
    },
    "r": {
     "delete_cmd_postfix": ") ",
     "delete_cmd_prefix": "rm(",
     "library": "var_list.r",
     "varRefreshCmd": "cat(var_dic_list()) "
    }
   },
   "types_to_exclude": [
    "module",
    "function",
    "builtin_function_or_method",
    "instance",
    "_Feature"
   ],
   "window_display": false
  }
 },
 "nbformat": 4,
 "nbformat_minor": 2
}
